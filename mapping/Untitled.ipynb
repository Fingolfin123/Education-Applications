{
 "cells": [
  {
   "cell_type": "code",
   "execution_count": 2,
   "metadata": {},
   "outputs": [],
   "source": [
    "import folium\n",
    "#import codecs\n",
    "\n",
    "def setmap(xCoord,yCoord,zoom_scale):\n",
    "\tmap = folium.Map([xCoord,yCoord], zoom_start=zoom_scale, tiles=\"Stamen Terrain\")\n",
    "\t#Add Map elements\n",
    "\tmap.add_child(folium.Marker(location=[xCoord,yCoord],popup=\"Check me out!\", icon=folium.Icon(color='red')))\n",
    "\tmap.save(\"Map1.html\")\n",
    "\t#codecs.open(\"Map1.html\")\n",
    "\n",
    "setmap(35.6,-99,5)"
   ]
  },
  {
   "cell_type": "code",
   "execution_count": null,
   "metadata": {},
   "outputs": [],
   "source": []
  }
 ],
 "metadata": {
  "kernelspec": {
   "display_name": "Python 3",
   "language": "python",
   "name": "python3"
  },
  "language_info": {
   "codemirror_mode": {
    "name": "ipython",
    "version": 3
   },
   "file_extension": ".py",
   "mimetype": "text/x-python",
   "name": "python",
   "nbconvert_exporter": "python",
   "pygments_lexer": "ipython3",
   "version": "3.8.5"
  }
 },
 "nbformat": 4,
 "nbformat_minor": 4
}

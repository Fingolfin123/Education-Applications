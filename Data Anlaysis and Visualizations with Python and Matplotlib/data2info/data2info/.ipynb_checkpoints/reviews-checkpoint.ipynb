{
 "cells": [
  {
   "cell_type": "code",
   "execution_count": 6,
   "metadata": {},
   "outputs": [],
   "source": [
    "import pandas\n",
    "\n",
    "def readCSV(data, showSample, showHist):\n",
    "    df=pandas.read_csv(data)\n",
    "    \n",
    "    if showSample == True:\n",
    "        df.head() #show first 5 rows only\n",
    "        df.shape() # show (row,col) count\n",
    "        df.columns # show names of columns\n",
    "    \n",
    "    if showHist == True:\n",
    "        df.hist('Rating')\n"
   ]
  },
  {
   "cell_type": "code",
   "execution_count": null,
   "metadata": {},
   "outputs": [],
   "source": [
    "read"
   ]
  }
 ],
 "metadata": {
  "kernelspec": {
   "display_name": "Python 3",
   "language": "python",
   "name": "python3"
  },
  "language_info": {
   "codemirror_mode": {
    "name": "ipython",
    "version": 3
   },
   "file_extension": ".py",
   "mimetype": "text/x-python",
   "name": "python",
   "nbconvert_exporter": "python",
   "pygments_lexer": "ipython3",
   "version": "3.8.5"
  }
 },
 "nbformat": 4,
 "nbformat_minor": 4
}

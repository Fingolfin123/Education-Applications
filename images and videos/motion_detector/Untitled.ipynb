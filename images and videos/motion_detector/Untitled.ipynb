{
 "cells": [
  {
   "cell_type": "code",
   "execution_count": 2,
   "metadata": {},
   "outputs": [
    {
     "name": "stdout",
     "output_type": "stream",
     "text": [
      "[0, 0]\n",
      "[datetime.datetime(2021, 10, 28, 9, 55, 59, 660234), datetime.datetime(2021, 10, 28, 9, 56, 1, 483322), datetime.datetime(2021, 10, 28, 9, 56, 4, 173806), datetime.datetime(2021, 10, 28, 9, 56, 8, 76002)]\n"
     ]
    },
    {
     "data": {
      "text/plain": [
       "<function destroyAllWindows>"
      ]
     },
     "execution_count": 2,
     "metadata": {},
     "output_type": "execute_result"
    }
   ],
   "source": [
    "import cv2, time, pandas\n",
    "from datetime import datetime\n",
    "\n",
    "\n",
    "first_frame=None\n",
    "status_list=[None,None]\n",
    "times=[]\n",
    "df=pandas.DataFrame(columns=[\"Start\",\"End\"])\n",
    "\n",
    "video=cv2.VideoCapture(0)   #capture video\n",
    "\n",
    "#Iterate through frame captures\n",
    "while True:\n",
    "    \n",
    "    check, frame = video.read()\n",
    "    status=0\n",
    "    gray=cv2.cvtColor(frame,cv2.COLOR_BGR2GRAY)\n",
    "    gray=cv2.GaussianBlur(gray,(21,21),0) #removes noise from image \n",
    "\n",
    "    if first_frame is None:\n",
    "        first_frame=gray\n",
    "        continue    #go back to beginning of loop\n",
    "\n",
    "    delta_frame=cv2.absdiff(first_frame,gray)   #compare two blurry grayscale images\n",
    "    thresh_frame=cv2.threshold(delta_frame,30,255,cv2.THRESH_BINARY)[1]\n",
    "    thresh_frame=cv2.dilate(thresh_frame, None, iterations=2)\n",
    "\n",
    "    (cnts,_) = cv2.findContours(thresh_frame.copy(),cv2.RETR_EXTERNAL,cv2.CHAIN_APPROX_SIMPLE)\n",
    "\n",
    "    for contour in cnts:\n",
    "        if cv2.contourArea(contour) < 10000:\n",
    "            continue\n",
    "        status=1\n",
    "        (x,y,w,h)=cv2.boundingRect(contour)\n",
    "        cv2.rectangle(frame, (x,y),(x+w,y+h), (0,255,0),3)\n",
    "\n",
    "    status_list.append(status)\n",
    "    status_list=status_list[-2:]\n",
    "    \n",
    "    if status_list[-1]==1 and status_list[-2]==0:\n",
    "        times.append(datetime.now())\n",
    "    if status_list[-1]==0 and status_list[-2]==1:\n",
    "        times.append(datetime.now())\n",
    "    \n",
    "    cv2.imshow(\"Delta frame\",delta_frame)    \n",
    "    #cv2.imshow(\"Gray Frame\",gray)\n",
    "    cv2.imshow(\"Threshold Frame\",thresh_frame)\n",
    "    cv2.imshow(\"Color Frame\",frame)\n",
    "      \n",
    "    key = cv2.waitKey(1)#change update rate\n",
    "\n",
    "    if key==ord('q'):\n",
    "        if status==1:\n",
    "            times.append(datetime.now()) #add closing Timstamp if program exited when object still in frame\n",
    "        break\n",
    "\n",
    "print(status_list)\n",
    "print(times)\n",
    "\n",
    "for i in range(0,len(times),2):\n",
    "    df=df.append({\"Start\":times[i],\"End\":times[i+1]},ignore_index=True)\n",
    "\n",
    "df.to_csv(\"Times.csv\")\n",
    "\n",
    "video.release()\n",
    "cv2.destroyAllWindows\n",
    "\n"
   ]
  },
  {
   "cell_type": "code",
   "execution_count": null,
   "metadata": {},
   "outputs": [],
   "source": []
  }
 ],
 "metadata": {
  "kernelspec": {
   "display_name": "Python 3",
   "language": "python",
   "name": "python3"
  },
  "language_info": {
   "codemirror_mode": {
    "name": "ipython",
    "version": 3
   },
   "file_extension": ".py",
   "mimetype": "text/x-python",
   "name": "python",
   "nbconvert_exporter": "python",
   "pygments_lexer": "ipython3",
   "version": "3.8.5"
  }
 },
 "nbformat": 4,
 "nbformat_minor": 4
}

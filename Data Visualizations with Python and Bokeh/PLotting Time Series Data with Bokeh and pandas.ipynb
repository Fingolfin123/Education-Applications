{
 "cells": [
  {
   "cell_type": "code",
   "execution_count": 54,
   "metadata": {},
   "outputs": [],
   "source": [
    "from bokeh.plotting import figure, output_file, show\n",
    "import pandas\n",
    "file=\"adbe.csv\"\n",
    "df=pandas.read_csv(file,parse_dates=[\"Date\"])\n",
    "\n",
    "\n",
    "f=figure(width=600,height=300,x_axis_type=\"datetime\",sizing_mode=\"scale_both\")\n",
    "\n",
    "f.line(df[\"Date\"],df[\"Close\"],color=\"orange\",alpha=0.5)\n",
    "\n",
    "output_file(\"Timeseries.html\")\n",
    "show(f)\n"
   ]
  },
  {
   "cell_type": "code",
   "execution_count": null,
   "metadata": {},
   "outputs": [],
   "source": []
  },
  {
   "cell_type": "code",
   "execution_count": null,
   "metadata": {},
   "outputs": [],
   "source": []
  }
 ],
 "metadata": {
  "kernelspec": {
   "display_name": "Python 3",
   "language": "python",
   "name": "python3"
  },
  "language_info": {
   "codemirror_mode": {
    "name": "ipython",
    "version": 3
   },
   "file_extension": ".py",
   "mimetype": "text/x-python",
   "name": "python",
   "nbconvert_exporter": "python",
   "pygments_lexer": "ipython3",
   "version": "3.8.5"
  }
 },
 "nbformat": 4,
 "nbformat_minor": 4
}

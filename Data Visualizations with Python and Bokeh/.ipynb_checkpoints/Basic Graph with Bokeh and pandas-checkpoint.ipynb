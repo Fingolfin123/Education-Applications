{
 "cells": [
  {
   "cell_type": "code",
   "execution_count": 33,
   "metadata": {},
   "outputs": [
    {
     "name": "stdout",
     "output_type": "stream",
     "text": [
      "xlsx\n"
     ]
    }
   ],
   "source": [
    "#importing Bokeh\n",
    "from bokeh.plotting import figure\n",
    "from bokeh.io import output_file,show\n",
    "import pandas\n",
    "import openpyxl\n",
    "import xlrd\n",
    "\n",
    "#Making a basic Bokeh line graph\n",
    "def plot_data(dataFile,colX, colY, scalerX, scalerY):\n",
    "    print(dataFile.rsplit('.', 1)[1])\n",
    "    #prepare some data\n",
    "    if dataFile.rsplit('.', 1)[1] == \"csv\":\n",
    "        df=pandas.read_csv(dataFile)\n",
    "    elif dataFile.rsplit('.', 1)[1] == \"xlsx\":\n",
    "        df=pandas.read_excel(dataFile)\n",
    "        \n",
    "    x=df[colX]\n",
    "    x=x*scalerX\n",
    "    y=df[colY]\n",
    "    y=y*scalerY\n",
    "    #x=[1,2,3,4,5]\n",
    "    #y=[6,7,9,12,16]\n",
    "\n",
    "    #prepare the output file\n",
    "    output_file(dataFile.rsplit('.', 1)[0] + \".html\")\n",
    "\n",
    "    #create a figure object\n",
    "    f=figure()\n",
    "    f.title.text=\"Summary Plot\"\n",
    "    f.title.text_color=\"Gray\"\n",
    "    f.title.text_font=\"times\"\n",
    "    f.title.text_font_style=\"bold\"\n",
    "    f.xaxis.minor_tick_line_color=None\n",
    "    f.yaxis.minor_tick_line_color=None\n",
    "    f.xaxis.axis_label=colX\n",
    "    f.yaxis.axis_label=colY\n",
    "\n",
    "    #create line plot\n",
    "    f.line(x,y)\n",
    "\n",
    "    show(f)\n",
    "\n",
    "    \n",
    "\n",
    "plot_data(\"verlegenhuken.xlsx\",\"Temperature\",\"Pressure\",.1,.1)"
   ]
  },
  {
   "cell_type": "code",
   "execution_count": null,
   "metadata": {},
   "outputs": [],
   "source": [
    "from bokeh.plotting import figure, output_file, show\n",
    "p = figure(plot_width=500, plot_height=400, tools = 'pan, reset')\n",
    "p.title.text = \"Earthquakes\"\n",
    "p.title.text_color = \"Orange\"\n",
    "p.title.text_font = \"times\"\n",
    "p.title.text_font_style = \"italic\"\n",
    "p.yaxis.minor_tick_line_color = \"Yellow\"\n",
    "p.xaxis.axis_label = \"Times\"\n",
    "p.yaxis.axis_label = \"Value\"\n",
    "p.circle([1,2,3,4,5], [5,6,5,5,3], size = [i*2 for i in [8,12,14,15,20]], color=\"red\", alpha=0.5)\n",
    "output_file(\"Scatter_plotting.html\")\n",
    "show(p)"
   ]
  }
 ],
 "metadata": {
  "kernelspec": {
   "display_name": "Python 3",
   "language": "python",
   "name": "python3"
  },
  "language_info": {
   "codemirror_mode": {
    "name": "ipython",
    "version": 3
   },
   "file_extension": ".py",
   "mimetype": "text/x-python",
   "name": "python",
   "nbconvert_exporter": "python",
   "pygments_lexer": "ipython3",
   "version": "3.8.5"
  }
 },
 "nbformat": 4,
 "nbformat_minor": 4
}
